{
    "cells": [
        {
            "metadata": {
                "collapsed": true
            },
            "cell_type": "markdown",
            "source": "# My Jupyter Notebook on IBM Watson Studio"
        },
        {
            "metadata": {},
            "cell_type": "markdown",
            "source": "**Ileana A. Ochoa** \\\nEducational Innovation Specialist"
        },
        {
            "metadata": {},
            "cell_type": "markdown",
            "source": "_I'm interested in Data Science because I want to discover new possibilities for improving the students experience, by using all the data we have available in the LMS and other systems._"
        },
        {
            "metadata": {},
            "cell_type": "markdown",
            "source": "### The following code will ask two numbers to the user and will print the sum."
        },
        {
            "metadata": {},
            "cell_type": "code",
            "source": "number1 = int(input(\"Write the 1st number: \"))\nnumber2 = int(input(\"Write the 2nd number: \"))\n\nprint(\"The sum is \" + str(number1 + number2))",
            "execution_count": 6,
            "outputs": [
                {
                    "output_type": "stream",
                    "name": "stdout",
                    "text": "Write the 1st number: 42\nWrithe the 2nd number: 53\nThe sum is 95\n"
                }
            ]
        },
        {
            "metadata": {},
            "cell_type": "markdown",
            "source": "* * *\n<img src=\"https://cdn-cfpof.nitrocdn.com/BlsuvUouCRMZXlRDnoReLQfXZdugMQtC/assets/static/optimized/rev-397c982/wp-content/uploads/2019/08/031-edit-code-1.png\" alt=\"Code Icon\" width=\"18%\"/>\n\nThe seudocode of the previous cell is:\n1. Ask a first number to the user.\n1. Ask a second number to the user.\n1. Print the result. Before printing:\n    * It adds an introductory text.\n    * It sum the two numbers.\n    * It convert the result to a string."
        }
    ],
    "metadata": {
        "kernelspec": {
            "name": "python3",
            "display_name": "Python 3.10",
            "language": "python"
        },
        "language_info": {
            "name": "python",
            "version": "3.10.6",
            "mimetype": "text/x-python",
            "codemirror_mode": {
                "name": "ipython",
                "version": 3
            },
            "pygments_lexer": "ipython3",
            "nbconvert_exporter": "python",
            "file_extension": ".py"
        }
    },
    "nbformat": 4,
    "nbformat_minor": 1
}